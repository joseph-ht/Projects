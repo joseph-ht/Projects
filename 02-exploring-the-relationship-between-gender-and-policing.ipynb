{
 "cells": [
  {
   "cell_type": "markdown",
   "metadata": {},
   "source": [
    "___\n",
    "\n",
    "<p style=\"text-align: center;\"><img src=\"https://docs.google.com/uc?id=1lY0Uj5R04yMY3-ZppPWxqCr5pvBLYPnV\" class=\"img-fluid\" alt=\"CLRSWY\"></p>\n",
    "\n",
    "___"
   ]
  },
  {
   "cell_type": "markdown",
   "metadata": {},
   "source": [
    "<h1><p style=\"text-align: center;\">Data Analysis with Python <br>Project - 1</p><h1> - Traffic Police Stops <img src=\"https://docs.google.com/uc?id=17CPCwi3_VvzcS87TOsh4_U8eExOhL6Ki\" class=\"img-fluid\" alt=\"CLRSWY\" width=\"200\" height=\"100\"> "
   ]
  },
  {
   "cell_type": "markdown",
   "metadata": {},
   "source": [
    "Does the ``gender`` of a driver have an impact on police behavior during a traffic stop? **In this chapter**, you will explore that question while practicing filtering, grouping, method chaining, Boolean math, string methods, and more!"
   ]
  },
  {
   "cell_type": "markdown",
   "metadata": {},
   "source": [
    "***"
   ]
  },
  {
   "cell_type": "markdown",
   "metadata": {},
   "source": [
    "## Examining traffic violations"
   ]
  },
  {
   "cell_type": "markdown",
   "metadata": {},
   "source": [
    "Before comparing the violations being committed by each gender, you should examine the ``violations`` committed by all drivers to get a baseline understanding of the data.\n",
    "\n",
    "In this exercise, you'll count the unique values in the ``violation`` column, and then separately express those counts as proportions."
   ]
  },
  {
   "cell_type": "markdown",
   "metadata": {},
   "source": [
    "> Before starting your work in this section **repeat the steps which you did in the previos chapter for preparing the data.** Continue to this chapter based on where you were in the end of the previous chapter."
   ]
  },
  {
   "cell_type": "code",
   "execution_count": 5,
   "metadata": {},
   "outputs": [],
   "source": [
    "import pandas as pd"
   ]
  },
  {
   "cell_type": "code",
   "execution_count": 6,
   "metadata": {},
   "outputs": [
    {
     "name": "stderr",
     "output_type": "stream",
     "text": [
      "/opt/anaconda3/lib/python3.8/site-packages/IPython/core/interactiveshell.py:3146: DtypeWarning: Columns (8,16) have mixed types.Specify dtype option on import or set low_memory=False.\n",
      "  has_raised = await self.run_ast_nodes(code_ast.body, cell_name,\n"
     ]
    }
   ],
   "source": [
    "ri = pd.read_csv('police.csv')\n",
    "drop_columns=[\"state\", \"county_name\", \"county_fips\", \"fine_grained_location\"]\n",
    "ri.drop(drop_columns, axis='columns', inplace=True)\n",
    "ri.dropna(subset=['driver_gender'], inplace=True)\n",
    "ri['is_arrested'] = ri.is_arrested.astype('bool')\n",
    "combined = ri.stop_date.str.cat(ri.stop_time, sep=' ')\n",
    "ri['stop_datetime'] = pd.to_datetime(combined)\n",
    "ri.drop([\"stop_date\", \"stop_time\"], axis='columns', inplace=True)\n",
    "ri[\"date_time\"]=ri.stop_datetime\n",
    "ri.set_index('stop_datetime', inplace=True)"
   ]
  },
  {
   "cell_type": "code",
   "execution_count": 7,
   "metadata": {},
   "outputs": [
    {
     "data": {
      "text/html": [
       "<div>\n",
       "<style scoped>\n",
       "    .dataframe tbody tr th:only-of-type {\n",
       "        vertical-align: middle;\n",
       "    }\n",
       "\n",
       "    .dataframe tbody tr th {\n",
       "        vertical-align: top;\n",
       "    }\n",
       "\n",
       "    .dataframe thead th {\n",
       "        text-align: right;\n",
       "    }\n",
       "</style>\n",
       "<table border=\"1\" class=\"dataframe\">\n",
       "  <thead>\n",
       "    <tr style=\"text-align: right;\">\n",
       "      <th></th>\n",
       "      <th>id</th>\n",
       "      <th>location_raw</th>\n",
       "      <th>police_department</th>\n",
       "      <th>driver_gender</th>\n",
       "      <th>driver_age_raw</th>\n",
       "      <th>driver_age</th>\n",
       "      <th>driver_race_raw</th>\n",
       "      <th>driver_race</th>\n",
       "      <th>violation_raw</th>\n",
       "      <th>violation</th>\n",
       "      <th>...</th>\n",
       "      <th>search_type_raw</th>\n",
       "      <th>search_type</th>\n",
       "      <th>contraband_found</th>\n",
       "      <th>stop_outcome</th>\n",
       "      <th>is_arrested</th>\n",
       "      <th>stop_duration</th>\n",
       "      <th>out_of_state</th>\n",
       "      <th>drugs_related_stop</th>\n",
       "      <th>district</th>\n",
       "      <th>date_time</th>\n",
       "    </tr>\n",
       "    <tr>\n",
       "      <th>stop_datetime</th>\n",
       "      <th></th>\n",
       "      <th></th>\n",
       "      <th></th>\n",
       "      <th></th>\n",
       "      <th></th>\n",
       "      <th></th>\n",
       "      <th></th>\n",
       "      <th></th>\n",
       "      <th></th>\n",
       "      <th></th>\n",
       "      <th></th>\n",
       "      <th></th>\n",
       "      <th></th>\n",
       "      <th></th>\n",
       "      <th></th>\n",
       "      <th></th>\n",
       "      <th></th>\n",
       "      <th></th>\n",
       "      <th></th>\n",
       "      <th></th>\n",
       "      <th></th>\n",
       "    </tr>\n",
       "  </thead>\n",
       "  <tbody>\n",
       "    <tr>\n",
       "      <th>2005-01-02 01:55:00</th>\n",
       "      <td>RI-2005-00001</td>\n",
       "      <td>Zone K1</td>\n",
       "      <td>600</td>\n",
       "      <td>M</td>\n",
       "      <td>1985.0</td>\n",
       "      <td>20.0</td>\n",
       "      <td>W</td>\n",
       "      <td>White</td>\n",
       "      <td>Speeding</td>\n",
       "      <td>Speeding</td>\n",
       "      <td>...</td>\n",
       "      <td>NaN</td>\n",
       "      <td>NaN</td>\n",
       "      <td>False</td>\n",
       "      <td>Citation</td>\n",
       "      <td>False</td>\n",
       "      <td>0-15 Min</td>\n",
       "      <td>False</td>\n",
       "      <td>False</td>\n",
       "      <td>Zone K1</td>\n",
       "      <td>2005-01-02 01:55:00</td>\n",
       "    </tr>\n",
       "    <tr>\n",
       "      <th>2005-01-02 20:30:00</th>\n",
       "      <td>RI-2005-00002</td>\n",
       "      <td>Zone X4</td>\n",
       "      <td>500</td>\n",
       "      <td>M</td>\n",
       "      <td>1987.0</td>\n",
       "      <td>18.0</td>\n",
       "      <td>W</td>\n",
       "      <td>White</td>\n",
       "      <td>Speeding</td>\n",
       "      <td>Speeding</td>\n",
       "      <td>...</td>\n",
       "      <td>NaN</td>\n",
       "      <td>NaN</td>\n",
       "      <td>False</td>\n",
       "      <td>Citation</td>\n",
       "      <td>False</td>\n",
       "      <td>16-30 Min</td>\n",
       "      <td>False</td>\n",
       "      <td>False</td>\n",
       "      <td>Zone X4</td>\n",
       "      <td>2005-01-02 20:30:00</td>\n",
       "    </tr>\n",
       "    <tr>\n",
       "      <th>2005-01-04 12:55:00</th>\n",
       "      <td>RI-2005-00004</td>\n",
       "      <td>Zone X4</td>\n",
       "      <td>500</td>\n",
       "      <td>M</td>\n",
       "      <td>1986.0</td>\n",
       "      <td>19.0</td>\n",
       "      <td>W</td>\n",
       "      <td>White</td>\n",
       "      <td>Equipment/Inspection Violation</td>\n",
       "      <td>Equipment</td>\n",
       "      <td>...</td>\n",
       "      <td>NaN</td>\n",
       "      <td>NaN</td>\n",
       "      <td>False</td>\n",
       "      <td>Citation</td>\n",
       "      <td>False</td>\n",
       "      <td>0-15 Min</td>\n",
       "      <td>False</td>\n",
       "      <td>False</td>\n",
       "      <td>Zone X4</td>\n",
       "      <td>2005-01-04 12:55:00</td>\n",
       "    </tr>\n",
       "    <tr>\n",
       "      <th>2005-01-06 01:30:00</th>\n",
       "      <td>RI-2005-00005</td>\n",
       "      <td>Zone X4</td>\n",
       "      <td>500</td>\n",
       "      <td>M</td>\n",
       "      <td>1978.0</td>\n",
       "      <td>27.0</td>\n",
       "      <td>B</td>\n",
       "      <td>Black</td>\n",
       "      <td>Equipment/Inspection Violation</td>\n",
       "      <td>Equipment</td>\n",
       "      <td>...</td>\n",
       "      <td>NaN</td>\n",
       "      <td>NaN</td>\n",
       "      <td>False</td>\n",
       "      <td>Citation</td>\n",
       "      <td>False</td>\n",
       "      <td>0-15 Min</td>\n",
       "      <td>False</td>\n",
       "      <td>False</td>\n",
       "      <td>Zone X4</td>\n",
       "      <td>2005-01-06 01:30:00</td>\n",
       "    </tr>\n",
       "    <tr>\n",
       "      <th>2005-01-12 08:05:00</th>\n",
       "      <td>RI-2005-00006</td>\n",
       "      <td>Zone X1</td>\n",
       "      <td>0</td>\n",
       "      <td>M</td>\n",
       "      <td>1973.0</td>\n",
       "      <td>32.0</td>\n",
       "      <td>B</td>\n",
       "      <td>Black</td>\n",
       "      <td>Call for Service</td>\n",
       "      <td>Other</td>\n",
       "      <td>...</td>\n",
       "      <td>NaN</td>\n",
       "      <td>NaN</td>\n",
       "      <td>False</td>\n",
       "      <td>Citation</td>\n",
       "      <td>False</td>\n",
       "      <td>30+ Min</td>\n",
       "      <td>True</td>\n",
       "      <td>False</td>\n",
       "      <td>Zone X1</td>\n",
       "      <td>2005-01-12 08:05:00</td>\n",
       "    </tr>\n",
       "  </tbody>\n",
       "</table>\n",
       "<p>5 rows × 21 columns</p>\n",
       "</div>"
      ],
      "text/plain": [
       "                                id location_raw police_department  \\\n",
       "stop_datetime                                                       \n",
       "2005-01-02 01:55:00  RI-2005-00001      Zone K1               600   \n",
       "2005-01-02 20:30:00  RI-2005-00002      Zone X4               500   \n",
       "2005-01-04 12:55:00  RI-2005-00004      Zone X4               500   \n",
       "2005-01-06 01:30:00  RI-2005-00005      Zone X4               500   \n",
       "2005-01-12 08:05:00  RI-2005-00006      Zone X1                 0   \n",
       "\n",
       "                    driver_gender  driver_age_raw  driver_age driver_race_raw  \\\n",
       "stop_datetime                                                                   \n",
       "2005-01-02 01:55:00             M          1985.0        20.0               W   \n",
       "2005-01-02 20:30:00             M          1987.0        18.0               W   \n",
       "2005-01-04 12:55:00             M          1986.0        19.0               W   \n",
       "2005-01-06 01:30:00             M          1978.0        27.0               B   \n",
       "2005-01-12 08:05:00             M          1973.0        32.0               B   \n",
       "\n",
       "                    driver_race                   violation_raw  violation  \\\n",
       "stop_datetime                                                                \n",
       "2005-01-02 01:55:00       White                        Speeding   Speeding   \n",
       "2005-01-02 20:30:00       White                        Speeding   Speeding   \n",
       "2005-01-04 12:55:00       White  Equipment/Inspection Violation  Equipment   \n",
       "2005-01-06 01:30:00       Black  Equipment/Inspection Violation  Equipment   \n",
       "2005-01-12 08:05:00       Black                Call for Service      Other   \n",
       "\n",
       "                     ... search_type_raw search_type contraband_found  \\\n",
       "stop_datetime        ...                                                \n",
       "2005-01-02 01:55:00  ...             NaN         NaN            False   \n",
       "2005-01-02 20:30:00  ...             NaN         NaN            False   \n",
       "2005-01-04 12:55:00  ...             NaN         NaN            False   \n",
       "2005-01-06 01:30:00  ...             NaN         NaN            False   \n",
       "2005-01-12 08:05:00  ...             NaN         NaN            False   \n",
       "\n",
       "                     stop_outcome is_arrested  stop_duration out_of_state  \\\n",
       "stop_datetime                                                               \n",
       "2005-01-02 01:55:00      Citation       False       0-15 Min        False   \n",
       "2005-01-02 20:30:00      Citation       False      16-30 Min        False   \n",
       "2005-01-04 12:55:00      Citation       False       0-15 Min        False   \n",
       "2005-01-06 01:30:00      Citation       False       0-15 Min        False   \n",
       "2005-01-12 08:05:00      Citation       False        30+ Min         True   \n",
       "\n",
       "                    drugs_related_stop  district           date_time  \n",
       "stop_datetime                                                         \n",
       "2005-01-02 01:55:00              False   Zone K1 2005-01-02 01:55:00  \n",
       "2005-01-02 20:30:00              False   Zone X4 2005-01-02 20:30:00  \n",
       "2005-01-04 12:55:00              False   Zone X4 2005-01-04 12:55:00  \n",
       "2005-01-06 01:30:00              False   Zone X4 2005-01-06 01:30:00  \n",
       "2005-01-12 08:05:00              False   Zone X1 2005-01-12 08:05:00  \n",
       "\n",
       "[5 rows x 21 columns]"
      ]
     },
     "execution_count": 7,
     "metadata": {},
     "output_type": "execute_result"
    }
   ],
   "source": [
    "ri.head()"
   ]
  },
  {
   "cell_type": "code",
   "execution_count": 8,
   "metadata": {},
   "outputs": [
    {
     "data": {
      "text/plain": [
       "(480584, 21)"
      ]
     },
     "execution_count": 8,
     "metadata": {},
     "output_type": "execute_result"
    }
   ],
   "source": [
    "ri.shape"
   ]
  },
  {
   "cell_type": "code",
   "execution_count": 9,
   "metadata": {},
   "outputs": [
    {
     "name": "stdout",
     "output_type": "stream",
     "text": [
      "<class 'pandas.core.frame.DataFrame'>\n",
      "DatetimeIndex: 480584 entries, 2005-01-02 01:55:00 to 2015-12-31 23:48:00\n",
      "Data columns (total 21 columns):\n",
      " #   Column              Non-Null Count   Dtype         \n",
      "---  ------              --------------   -----         \n",
      " 0   id                  480584 non-null  object        \n",
      " 1   location_raw        480584 non-null  object        \n",
      " 2   police_department   480584 non-null  object        \n",
      " 3   driver_gender       480584 non-null  object        \n",
      " 4   driver_age_raw      480583 non-null  float64       \n",
      " 5   driver_age          478946 non-null  float64       \n",
      " 6   driver_race_raw     480584 non-null  object        \n",
      " 7   driver_race         480584 non-null  object        \n",
      " 8   violation_raw       480584 non-null  object        \n",
      " 9   violation           480584 non-null  object        \n",
      " 10  search_conducted    480584 non-null  object        \n",
      " 11  search_type_raw     17762 non-null   object        \n",
      " 12  search_type         17762 non-null   object        \n",
      " 13  contraband_found    480584 non-null  bool          \n",
      " 14  stop_outcome        480584 non-null  object        \n",
      " 15  is_arrested         480584 non-null  bool          \n",
      " 16  stop_duration       480584 non-null  object        \n",
      " 17  out_of_state        479776 non-null  object        \n",
      " 18  drugs_related_stop  480584 non-null  bool          \n",
      " 19  district            480584 non-null  object        \n",
      " 20  date_time           480584 non-null  datetime64[ns]\n",
      "dtypes: bool(3), datetime64[ns](1), float64(2), object(15)\n",
      "memory usage: 71.0+ MB\n"
     ]
    }
   ],
   "source": [
    "ri.info()"
   ]
  },
  {
   "cell_type": "code",
   "execution_count": 10,
   "metadata": {},
   "outputs": [
    {
     "data": {
      "text/plain": [
       "id                         0\n",
       "location_raw               0\n",
       "police_department          0\n",
       "driver_gender              0\n",
       "driver_age_raw             1\n",
       "driver_age              1638\n",
       "driver_race_raw            0\n",
       "driver_race                0\n",
       "violation_raw              0\n",
       "violation                  0\n",
       "search_conducted           0\n",
       "search_type_raw       462822\n",
       "search_type           462822\n",
       "contraband_found           0\n",
       "stop_outcome               0\n",
       "is_arrested                0\n",
       "stop_duration              0\n",
       "out_of_state             808\n",
       "drugs_related_stop         0\n",
       "district                   0\n",
       "date_time                  0\n",
       "dtype: int64"
      ]
     },
     "execution_count": 10,
     "metadata": {},
     "output_type": "execute_result"
    }
   ],
   "source": [
    "ri.isnull().sum()"
   ]
  },
  {
   "cell_type": "markdown",
   "metadata": {},
   "source": [
    "**INSTRUCTIONS**\n",
    "\n",
    "*   Count the unique values in the ``violation`` column, to see what violations are being committed by all drivers.\n",
    "*   Express the violation counts as proportions of the total."
   ]
  },
  {
   "cell_type": "code",
   "execution_count": 11,
   "metadata": {
    "scrolled": true
   },
   "outputs": [
    {
     "data": {
      "text/plain": [
       "array(['Speeding', 'Equipment', 'Other', 'Moving violation',\n",
       "       'Registration/plates', 'Seat belt'], dtype=object)"
      ]
     },
     "execution_count": 11,
     "metadata": {},
     "output_type": "execute_result"
    }
   ],
   "source": [
    "ri.violation.unique()"
   ]
  },
  {
   "cell_type": "code",
   "execution_count": 12,
   "metadata": {},
   "outputs": [
    {
     "data": {
      "text/plain": [
       "6"
      ]
     },
     "execution_count": 12,
     "metadata": {},
     "output_type": "execute_result"
    }
   ],
   "source": [
    "ri.violation.nunique()"
   ]
  },
  {
   "cell_type": "code",
   "execution_count": 13,
   "metadata": {
    "scrolled": true
   },
   "outputs": [
    {
     "data": {
      "text/plain": [
       "violation\n",
       "Equipment               61250\n",
       "Moving violation        90228\n",
       "Other                   24216\n",
       "Registration/plates     19830\n",
       "Seat belt               16324\n",
       "Speeding               268736\n",
       "Name: id, dtype: int64"
      ]
     },
     "execution_count": 13,
     "metadata": {},
     "output_type": "execute_result"
    }
   ],
   "source": [
    "ri.groupby('violation')['id'].count()"
   ]
  },
  {
   "cell_type": "code",
   "execution_count": null,
   "metadata": {},
   "outputs": [],
   "source": [
    "# More practical with value_counts method !\n",
    "# DataFrame.value_counts(subset=None, normalize=False, sort=True, ascending=False)"
   ]
  },
  {
   "cell_type": "code",
   "execution_count": 14,
   "metadata": {
    "scrolled": true
   },
   "outputs": [
    {
     "data": {
      "text/plain": [
       "Speeding               268736\n",
       "Moving violation        90228\n",
       "Equipment               61250\n",
       "Other                   24216\n",
       "Registration/plates     19830\n",
       "Seat belt               16324\n",
       "Name: violation, dtype: int64"
      ]
     },
     "execution_count": 14,
     "metadata": {},
     "output_type": "execute_result"
    }
   ],
   "source": [
    "# violations committed by all drivers :\n",
    "ri.violation.value_counts()"
   ]
  },
  {
   "cell_type": "code",
   "execution_count": 15,
   "metadata": {},
   "outputs": [
    {
     "data": {
      "text/plain": [
       "Speeding               0.559186\n",
       "Moving violation       0.187747\n",
       "Equipment              0.127449\n",
       "Other                  0.050389\n",
       "Registration/plates    0.041262\n",
       "Seat belt              0.033967\n",
       "Name: violation, dtype: float64"
      ]
     },
     "execution_count": 15,
     "metadata": {},
     "output_type": "execute_result"
    }
   ],
   "source": [
    "# violation counts as proportions of the total:\n",
    "ri.violation.value_counts(normalize=True)"
   ]
  },
  {
   "cell_type": "markdown",
   "metadata": {},
   "source": [
    "***"
   ]
  },
  {
   "cell_type": "markdown",
   "metadata": {},
   "source": [
    "## Comparing violations by gender"
   ]
  },
  {
   "cell_type": "markdown",
   "metadata": {},
   "source": [
    "The question we're trying to answer is whether male and female drivers tend to commit different types of traffic violations.\n",
    "\n",
    "You'll first create a ``DataFrame`` for each gender, and then analyze the ``violations`` in each ``DataFrame`` separately."
   ]
  },
  {
   "cell_type": "markdown",
   "metadata": {},
   "source": [
    "**INSTRUCTIONS**\n",
    "\n",
    "*   Create a ``DataFrame``, female, that only contains rows in which ``driver_gender`` is ``'F'``.\n",
    "*   Create a ``DataFrame``, male, that only contains rows in which ``driver_gender`` is ``'M'``.\n",
    "*   Count the ``violations`` committed by female drivers and express them as proportions.\n",
    "*   Count the violations committed by male drivers and express them as proportions."
   ]
  },
  {
   "cell_type": "code",
   "execution_count": 16,
   "metadata": {
    "scrolled": true
   },
   "outputs": [
    {
     "data": {
      "text/html": [
       "<div>\n",
       "<style scoped>\n",
       "    .dataframe tbody tr th:only-of-type {\n",
       "        vertical-align: middle;\n",
       "    }\n",
       "\n",
       "    .dataframe tbody tr th {\n",
       "        vertical-align: top;\n",
       "    }\n",
       "\n",
       "    .dataframe thead th {\n",
       "        text-align: right;\n",
       "    }\n",
       "</style>\n",
       "<table border=\"1\" class=\"dataframe\">\n",
       "  <thead>\n",
       "    <tr style=\"text-align: right;\">\n",
       "      <th></th>\n",
       "      <th>id</th>\n",
       "      <th>location_raw</th>\n",
       "      <th>police_department</th>\n",
       "      <th>driver_gender</th>\n",
       "      <th>driver_age_raw</th>\n",
       "      <th>driver_age</th>\n",
       "      <th>driver_race_raw</th>\n",
       "      <th>driver_race</th>\n",
       "      <th>violation_raw</th>\n",
       "      <th>violation</th>\n",
       "      <th>...</th>\n",
       "      <th>search_type_raw</th>\n",
       "      <th>search_type</th>\n",
       "      <th>contraband_found</th>\n",
       "      <th>stop_outcome</th>\n",
       "      <th>is_arrested</th>\n",
       "      <th>stop_duration</th>\n",
       "      <th>out_of_state</th>\n",
       "      <th>drugs_related_stop</th>\n",
       "      <th>district</th>\n",
       "      <th>date_time</th>\n",
       "    </tr>\n",
       "    <tr>\n",
       "      <th>stop_datetime</th>\n",
       "      <th></th>\n",
       "      <th></th>\n",
       "      <th></th>\n",
       "      <th></th>\n",
       "      <th></th>\n",
       "      <th></th>\n",
       "      <th></th>\n",
       "      <th></th>\n",
       "      <th></th>\n",
       "      <th></th>\n",
       "      <th></th>\n",
       "      <th></th>\n",
       "      <th></th>\n",
       "      <th></th>\n",
       "      <th></th>\n",
       "      <th></th>\n",
       "      <th></th>\n",
       "      <th></th>\n",
       "      <th></th>\n",
       "      <th></th>\n",
       "      <th></th>\n",
       "    </tr>\n",
       "  </thead>\n",
       "  <tbody>\n",
       "    <tr>\n",
       "      <th>2015-12-31 21:59:00</th>\n",
       "      <td>RI-2015-47051</td>\n",
       "      <td>Zone K3</td>\n",
       "      <td>300</td>\n",
       "      <td>F</td>\n",
       "      <td>1994.0</td>\n",
       "      <td>21.0</td>\n",
       "      <td>W</td>\n",
       "      <td>White</td>\n",
       "      <td>Speeding</td>\n",
       "      <td>Speeding</td>\n",
       "      <td>...</td>\n",
       "      <td>NaN</td>\n",
       "      <td>NaN</td>\n",
       "      <td>False</td>\n",
       "      <td>Citation</td>\n",
       "      <td>False</td>\n",
       "      <td>0-15 Min</td>\n",
       "      <td>False</td>\n",
       "      <td>False</td>\n",
       "      <td>Zone K3</td>\n",
       "      <td>2015-12-31 21:59:00</td>\n",
       "    </tr>\n",
       "    <tr>\n",
       "      <th>2015-12-31 22:09:00</th>\n",
       "      <td>RI-2015-47054</td>\n",
       "      <td>Zone K3</td>\n",
       "      <td>300</td>\n",
       "      <td>F</td>\n",
       "      <td>1992.0</td>\n",
       "      <td>23.0</td>\n",
       "      <td>H</td>\n",
       "      <td>Hispanic</td>\n",
       "      <td>Equipment/Inspection Violation</td>\n",
       "      <td>Equipment</td>\n",
       "      <td>...</td>\n",
       "      <td>NaN</td>\n",
       "      <td>NaN</td>\n",
       "      <td>False</td>\n",
       "      <td>Warning</td>\n",
       "      <td>False</td>\n",
       "      <td>0-15 Min</td>\n",
       "      <td>False</td>\n",
       "      <td>False</td>\n",
       "      <td>Zone K3</td>\n",
       "      <td>2015-12-31 22:09:00</td>\n",
       "    </tr>\n",
       "    <tr>\n",
       "      <th>2015-12-31 22:10:00</th>\n",
       "      <td>RI-2015-47055</td>\n",
       "      <td>Zone X4</td>\n",
       "      <td>300</td>\n",
       "      <td>F</td>\n",
       "      <td>1989.0</td>\n",
       "      <td>26.0</td>\n",
       "      <td>L</td>\n",
       "      <td>Hispanic</td>\n",
       "      <td>Other Traffic Violation</td>\n",
       "      <td>Moving violation</td>\n",
       "      <td>...</td>\n",
       "      <td>NaN</td>\n",
       "      <td>NaN</td>\n",
       "      <td>False</td>\n",
       "      <td>Warning</td>\n",
       "      <td>False</td>\n",
       "      <td>0-15 Min</td>\n",
       "      <td>False</td>\n",
       "      <td>False</td>\n",
       "      <td>Zone X4</td>\n",
       "      <td>2015-12-31 22:10:00</td>\n",
       "    </tr>\n",
       "    <tr>\n",
       "      <th>2015-12-31 22:10:00</th>\n",
       "      <td>RI-2015-47056</td>\n",
       "      <td>Zone X4</td>\n",
       "      <td>300</td>\n",
       "      <td>F</td>\n",
       "      <td>1989.0</td>\n",
       "      <td>26.0</td>\n",
       "      <td>L</td>\n",
       "      <td>Hispanic</td>\n",
       "      <td>Other Traffic Violation</td>\n",
       "      <td>Moving violation</td>\n",
       "      <td>...</td>\n",
       "      <td>NaN</td>\n",
       "      <td>NaN</td>\n",
       "      <td>False</td>\n",
       "      <td>Arrest Driver</td>\n",
       "      <td>True</td>\n",
       "      <td>0-15 Min</td>\n",
       "      <td>False</td>\n",
       "      <td>False</td>\n",
       "      <td>Zone X4</td>\n",
       "      <td>2015-12-31 22:10:00</td>\n",
       "    </tr>\n",
       "    <tr>\n",
       "      <th>2015-12-31 22:39:00</th>\n",
       "      <td>RI-2015-47060</td>\n",
       "      <td>Zone K3</td>\n",
       "      <td>300</td>\n",
       "      <td>F</td>\n",
       "      <td>1976.0</td>\n",
       "      <td>39.0</td>\n",
       "      <td>W</td>\n",
       "      <td>White</td>\n",
       "      <td>Other Traffic Violation</td>\n",
       "      <td>Moving violation</td>\n",
       "      <td>...</td>\n",
       "      <td>NaN</td>\n",
       "      <td>NaN</td>\n",
       "      <td>False</td>\n",
       "      <td>Citation</td>\n",
       "      <td>False</td>\n",
       "      <td>16-30 Min</td>\n",
       "      <td>True</td>\n",
       "      <td>False</td>\n",
       "      <td>Zone K3</td>\n",
       "      <td>2015-12-31 22:39:00</td>\n",
       "    </tr>\n",
       "  </tbody>\n",
       "</table>\n",
       "<p>5 rows × 21 columns</p>\n",
       "</div>"
      ],
      "text/plain": [
       "                                id location_raw police_department  \\\n",
       "stop_datetime                                                       \n",
       "2015-12-31 21:59:00  RI-2015-47051      Zone K3               300   \n",
       "2015-12-31 22:09:00  RI-2015-47054      Zone K3               300   \n",
       "2015-12-31 22:10:00  RI-2015-47055      Zone X4               300   \n",
       "2015-12-31 22:10:00  RI-2015-47056      Zone X4               300   \n",
       "2015-12-31 22:39:00  RI-2015-47060      Zone K3               300   \n",
       "\n",
       "                    driver_gender  driver_age_raw  driver_age driver_race_raw  \\\n",
       "stop_datetime                                                                   \n",
       "2015-12-31 21:59:00             F          1994.0        21.0               W   \n",
       "2015-12-31 22:09:00             F          1992.0        23.0               H   \n",
       "2015-12-31 22:10:00             F          1989.0        26.0               L   \n",
       "2015-12-31 22:10:00             F          1989.0        26.0               L   \n",
       "2015-12-31 22:39:00             F          1976.0        39.0               W   \n",
       "\n",
       "                    driver_race                   violation_raw  \\\n",
       "stop_datetime                                                     \n",
       "2015-12-31 21:59:00       White                        Speeding   \n",
       "2015-12-31 22:09:00    Hispanic  Equipment/Inspection Violation   \n",
       "2015-12-31 22:10:00    Hispanic         Other Traffic Violation   \n",
       "2015-12-31 22:10:00    Hispanic         Other Traffic Violation   \n",
       "2015-12-31 22:39:00       White         Other Traffic Violation   \n",
       "\n",
       "                            violation  ... search_type_raw search_type  \\\n",
       "stop_datetime                          ...                               \n",
       "2015-12-31 21:59:00          Speeding  ...             NaN         NaN   \n",
       "2015-12-31 22:09:00         Equipment  ...             NaN         NaN   \n",
       "2015-12-31 22:10:00  Moving violation  ...             NaN         NaN   \n",
       "2015-12-31 22:10:00  Moving violation  ...             NaN         NaN   \n",
       "2015-12-31 22:39:00  Moving violation  ...             NaN         NaN   \n",
       "\n",
       "                    contraband_found   stop_outcome is_arrested  \\\n",
       "stop_datetime                                                     \n",
       "2015-12-31 21:59:00            False       Citation       False   \n",
       "2015-12-31 22:09:00            False        Warning       False   \n",
       "2015-12-31 22:10:00            False        Warning       False   \n",
       "2015-12-31 22:10:00            False  Arrest Driver        True   \n",
       "2015-12-31 22:39:00            False       Citation       False   \n",
       "\n",
       "                     stop_duration out_of_state drugs_related_stop  district  \\\n",
       "stop_datetime                                                                  \n",
       "2015-12-31 21:59:00       0-15 Min        False              False   Zone K3   \n",
       "2015-12-31 22:09:00       0-15 Min        False              False   Zone K3   \n",
       "2015-12-31 22:10:00       0-15 Min        False              False   Zone X4   \n",
       "2015-12-31 22:10:00       0-15 Min        False              False   Zone X4   \n",
       "2015-12-31 22:39:00      16-30 Min         True              False   Zone K3   \n",
       "\n",
       "                              date_time  \n",
       "stop_datetime                            \n",
       "2015-12-31 21:59:00 2015-12-31 21:59:00  \n",
       "2015-12-31 22:09:00 2015-12-31 22:09:00  \n",
       "2015-12-31 22:10:00 2015-12-31 22:10:00  \n",
       "2015-12-31 22:10:00 2015-12-31 22:10:00  \n",
       "2015-12-31 22:39:00 2015-12-31 22:39:00  \n",
       "\n",
       "[5 rows x 21 columns]"
      ]
     },
     "execution_count": 16,
     "metadata": {},
     "output_type": "execute_result"
    }
   ],
   "source": [
    "df_f = ri[ri['driver_gender']=='F']\n",
    "df_f.tail()"
   ]
  },
  {
   "cell_type": "code",
   "execution_count": 17,
   "metadata": {},
   "outputs": [
    {
     "name": "stdout",
     "output_type": "stream",
     "text": [
      "<class 'pandas.core.frame.DataFrame'>\n",
      "DatetimeIndex: 131138 entries, 2005-02-24 01:20:00 to 2015-12-31 22:39:00\n",
      "Data columns (total 21 columns):\n",
      " #   Column              Non-Null Count   Dtype         \n",
      "---  ------              --------------   -----         \n",
      " 0   id                  131138 non-null  object        \n",
      " 1   location_raw        131138 non-null  object        \n",
      " 2   police_department   131138 non-null  object        \n",
      " 3   driver_gender       131138 non-null  object        \n",
      " 4   driver_age_raw      131137 non-null  float64       \n",
      " 5   driver_age          130828 non-null  float64       \n",
      " 6   driver_race_raw     131138 non-null  object        \n",
      " 7   driver_race         131138 non-null  object        \n",
      " 8   violation_raw       131138 non-null  object        \n",
      " 9   violation           131138 non-null  object        \n",
      " 10  search_conducted    131138 non-null  object        \n",
      " 11  search_type_raw     2459 non-null    object        \n",
      " 12  search_type         2459 non-null    object        \n",
      " 13  contraband_found    131138 non-null  bool          \n",
      " 14  stop_outcome        131138 non-null  object        \n",
      " 15  is_arrested         131138 non-null  bool          \n",
      " 16  stop_duration       131138 non-null  object        \n",
      " 17  out_of_state        130958 non-null  object        \n",
      " 18  drugs_related_stop  131138 non-null  bool          \n",
      " 19  district            131138 non-null  object        \n",
      " 20  date_time           131138 non-null  datetime64[ns]\n",
      "dtypes: bool(3), datetime64[ns](1), float64(2), object(15)\n",
      "memory usage: 19.4+ MB\n"
     ]
    }
   ],
   "source": [
    "df_f.info()"
   ]
  },
  {
   "cell_type": "code",
   "execution_count": 18,
   "metadata": {},
   "outputs": [
    {
     "data": {
      "text/html": [
       "<div>\n",
       "<style scoped>\n",
       "    .dataframe tbody tr th:only-of-type {\n",
       "        vertical-align: middle;\n",
       "    }\n",
       "\n",
       "    .dataframe tbody tr th {\n",
       "        vertical-align: top;\n",
       "    }\n",
       "\n",
       "    .dataframe thead th {\n",
       "        text-align: right;\n",
       "    }\n",
       "</style>\n",
       "<table border=\"1\" class=\"dataframe\">\n",
       "  <thead>\n",
       "    <tr style=\"text-align: right;\">\n",
       "      <th></th>\n",
       "      <th>id</th>\n",
       "      <th>location_raw</th>\n",
       "      <th>police_department</th>\n",
       "      <th>driver_gender</th>\n",
       "      <th>driver_age_raw</th>\n",
       "      <th>driver_age</th>\n",
       "      <th>driver_race_raw</th>\n",
       "      <th>driver_race</th>\n",
       "      <th>violation_raw</th>\n",
       "      <th>violation</th>\n",
       "      <th>...</th>\n",
       "      <th>search_type_raw</th>\n",
       "      <th>search_type</th>\n",
       "      <th>contraband_found</th>\n",
       "      <th>stop_outcome</th>\n",
       "      <th>is_arrested</th>\n",
       "      <th>stop_duration</th>\n",
       "      <th>out_of_state</th>\n",
       "      <th>drugs_related_stop</th>\n",
       "      <th>district</th>\n",
       "      <th>date_time</th>\n",
       "    </tr>\n",
       "    <tr>\n",
       "      <th>stop_datetime</th>\n",
       "      <th></th>\n",
       "      <th></th>\n",
       "      <th></th>\n",
       "      <th></th>\n",
       "      <th></th>\n",
       "      <th></th>\n",
       "      <th></th>\n",
       "      <th></th>\n",
       "      <th></th>\n",
       "      <th></th>\n",
       "      <th></th>\n",
       "      <th></th>\n",
       "      <th></th>\n",
       "      <th></th>\n",
       "      <th></th>\n",
       "      <th></th>\n",
       "      <th></th>\n",
       "      <th></th>\n",
       "      <th></th>\n",
       "      <th></th>\n",
       "      <th></th>\n",
       "    </tr>\n",
       "  </thead>\n",
       "  <tbody>\n",
       "    <tr>\n",
       "      <th>2005-01-02 01:55:00</th>\n",
       "      <td>RI-2005-00001</td>\n",
       "      <td>Zone K1</td>\n",
       "      <td>600</td>\n",
       "      <td>M</td>\n",
       "      <td>1985.0</td>\n",
       "      <td>20.0</td>\n",
       "      <td>W</td>\n",
       "      <td>White</td>\n",
       "      <td>Speeding</td>\n",
       "      <td>Speeding</td>\n",
       "      <td>...</td>\n",
       "      <td>NaN</td>\n",
       "      <td>NaN</td>\n",
       "      <td>False</td>\n",
       "      <td>Citation</td>\n",
       "      <td>False</td>\n",
       "      <td>0-15 Min</td>\n",
       "      <td>False</td>\n",
       "      <td>False</td>\n",
       "      <td>Zone K1</td>\n",
       "      <td>2005-01-02 01:55:00</td>\n",
       "    </tr>\n",
       "    <tr>\n",
       "      <th>2005-01-02 20:30:00</th>\n",
       "      <td>RI-2005-00002</td>\n",
       "      <td>Zone X4</td>\n",
       "      <td>500</td>\n",
       "      <td>M</td>\n",
       "      <td>1987.0</td>\n",
       "      <td>18.0</td>\n",
       "      <td>W</td>\n",
       "      <td>White</td>\n",
       "      <td>Speeding</td>\n",
       "      <td>Speeding</td>\n",
       "      <td>...</td>\n",
       "      <td>NaN</td>\n",
       "      <td>NaN</td>\n",
       "      <td>False</td>\n",
       "      <td>Citation</td>\n",
       "      <td>False</td>\n",
       "      <td>16-30 Min</td>\n",
       "      <td>False</td>\n",
       "      <td>False</td>\n",
       "      <td>Zone X4</td>\n",
       "      <td>2005-01-02 20:30:00</td>\n",
       "    </tr>\n",
       "    <tr>\n",
       "      <th>2005-01-04 12:55:00</th>\n",
       "      <td>RI-2005-00004</td>\n",
       "      <td>Zone X4</td>\n",
       "      <td>500</td>\n",
       "      <td>M</td>\n",
       "      <td>1986.0</td>\n",
       "      <td>19.0</td>\n",
       "      <td>W</td>\n",
       "      <td>White</td>\n",
       "      <td>Equipment/Inspection Violation</td>\n",
       "      <td>Equipment</td>\n",
       "      <td>...</td>\n",
       "      <td>NaN</td>\n",
       "      <td>NaN</td>\n",
       "      <td>False</td>\n",
       "      <td>Citation</td>\n",
       "      <td>False</td>\n",
       "      <td>0-15 Min</td>\n",
       "      <td>False</td>\n",
       "      <td>False</td>\n",
       "      <td>Zone X4</td>\n",
       "      <td>2005-01-04 12:55:00</td>\n",
       "    </tr>\n",
       "    <tr>\n",
       "      <th>2005-01-06 01:30:00</th>\n",
       "      <td>RI-2005-00005</td>\n",
       "      <td>Zone X4</td>\n",
       "      <td>500</td>\n",
       "      <td>M</td>\n",
       "      <td>1978.0</td>\n",
       "      <td>27.0</td>\n",
       "      <td>B</td>\n",
       "      <td>Black</td>\n",
       "      <td>Equipment/Inspection Violation</td>\n",
       "      <td>Equipment</td>\n",
       "      <td>...</td>\n",
       "      <td>NaN</td>\n",
       "      <td>NaN</td>\n",
       "      <td>False</td>\n",
       "      <td>Citation</td>\n",
       "      <td>False</td>\n",
       "      <td>0-15 Min</td>\n",
       "      <td>False</td>\n",
       "      <td>False</td>\n",
       "      <td>Zone X4</td>\n",
       "      <td>2005-01-06 01:30:00</td>\n",
       "    </tr>\n",
       "    <tr>\n",
       "      <th>2005-01-12 08:05:00</th>\n",
       "      <td>RI-2005-00006</td>\n",
       "      <td>Zone X1</td>\n",
       "      <td>0</td>\n",
       "      <td>M</td>\n",
       "      <td>1973.0</td>\n",
       "      <td>32.0</td>\n",
       "      <td>B</td>\n",
       "      <td>Black</td>\n",
       "      <td>Call for Service</td>\n",
       "      <td>Other</td>\n",
       "      <td>...</td>\n",
       "      <td>NaN</td>\n",
       "      <td>NaN</td>\n",
       "      <td>False</td>\n",
       "      <td>Citation</td>\n",
       "      <td>False</td>\n",
       "      <td>30+ Min</td>\n",
       "      <td>True</td>\n",
       "      <td>False</td>\n",
       "      <td>Zone X1</td>\n",
       "      <td>2005-01-12 08:05:00</td>\n",
       "    </tr>\n",
       "  </tbody>\n",
       "</table>\n",
       "<p>5 rows × 21 columns</p>\n",
       "</div>"
      ],
      "text/plain": [
       "                                id location_raw police_department  \\\n",
       "stop_datetime                                                       \n",
       "2005-01-02 01:55:00  RI-2005-00001      Zone K1               600   \n",
       "2005-01-02 20:30:00  RI-2005-00002      Zone X4               500   \n",
       "2005-01-04 12:55:00  RI-2005-00004      Zone X4               500   \n",
       "2005-01-06 01:30:00  RI-2005-00005      Zone X4               500   \n",
       "2005-01-12 08:05:00  RI-2005-00006      Zone X1                 0   \n",
       "\n",
       "                    driver_gender  driver_age_raw  driver_age driver_race_raw  \\\n",
       "stop_datetime                                                                   \n",
       "2005-01-02 01:55:00             M          1985.0        20.0               W   \n",
       "2005-01-02 20:30:00             M          1987.0        18.0               W   \n",
       "2005-01-04 12:55:00             M          1986.0        19.0               W   \n",
       "2005-01-06 01:30:00             M          1978.0        27.0               B   \n",
       "2005-01-12 08:05:00             M          1973.0        32.0               B   \n",
       "\n",
       "                    driver_race                   violation_raw  violation  \\\n",
       "stop_datetime                                                                \n",
       "2005-01-02 01:55:00       White                        Speeding   Speeding   \n",
       "2005-01-02 20:30:00       White                        Speeding   Speeding   \n",
       "2005-01-04 12:55:00       White  Equipment/Inspection Violation  Equipment   \n",
       "2005-01-06 01:30:00       Black  Equipment/Inspection Violation  Equipment   \n",
       "2005-01-12 08:05:00       Black                Call for Service      Other   \n",
       "\n",
       "                     ... search_type_raw search_type contraband_found  \\\n",
       "stop_datetime        ...                                                \n",
       "2005-01-02 01:55:00  ...             NaN         NaN            False   \n",
       "2005-01-02 20:30:00  ...             NaN         NaN            False   \n",
       "2005-01-04 12:55:00  ...             NaN         NaN            False   \n",
       "2005-01-06 01:30:00  ...             NaN         NaN            False   \n",
       "2005-01-12 08:05:00  ...             NaN         NaN            False   \n",
       "\n",
       "                     stop_outcome is_arrested  stop_duration out_of_state  \\\n",
       "stop_datetime                                                               \n",
       "2005-01-02 01:55:00      Citation       False       0-15 Min        False   \n",
       "2005-01-02 20:30:00      Citation       False      16-30 Min        False   \n",
       "2005-01-04 12:55:00      Citation       False       0-15 Min        False   \n",
       "2005-01-06 01:30:00      Citation       False       0-15 Min        False   \n",
       "2005-01-12 08:05:00      Citation       False        30+ Min         True   \n",
       "\n",
       "                    drugs_related_stop  district           date_time  \n",
       "stop_datetime                                                         \n",
       "2005-01-02 01:55:00              False   Zone K1 2005-01-02 01:55:00  \n",
       "2005-01-02 20:30:00              False   Zone X4 2005-01-02 20:30:00  \n",
       "2005-01-04 12:55:00              False   Zone X4 2005-01-04 12:55:00  \n",
       "2005-01-06 01:30:00              False   Zone X4 2005-01-06 01:30:00  \n",
       "2005-01-12 08:05:00              False   Zone X1 2005-01-12 08:05:00  \n",
       "\n",
       "[5 rows x 21 columns]"
      ]
     },
     "execution_count": 18,
     "metadata": {},
     "output_type": "execute_result"
    }
   ],
   "source": [
    "df_m = ri[ri['driver_gender']=='M']\n",
    "df_m.head()"
   ]
  },
  {
   "cell_type": "code",
   "execution_count": 19,
   "metadata": {},
   "outputs": [
    {
     "name": "stdout",
     "output_type": "stream",
     "text": [
      "Total # of Female Violations :\n",
      "------------------------------\n",
      "Speeding               86198\n",
      "Moving violation       17911\n",
      "Equipment              14039\n",
      "Registration/plates     5649\n",
      "Other                   3791\n",
      "Seat belt               3550\n",
      "Name: violation, dtype: int64\n",
      "------------------------------\n",
      "Proportions of Female Violations:\n",
      "------------------------------\n",
      "Speeding               0.657308\n",
      "Moving violation       0.136581\n",
      "Equipment              0.107055\n",
      "Registration/plates    0.043077\n",
      "Other                  0.028908\n",
      "Seat belt              0.027071\n",
      "Name: violation, dtype: float64\n"
     ]
    }
   ],
   "source": [
    "print('Total # of Female Violations :'\n",
    "      ,'------------------------------'\n",
    "      ,df_f.violation.value_counts()\n",
    "      ,'------------------------------',sep='\\n')\n",
    "print('Proportions of Female Violations:'\n",
    "      ,'------------------------------'\n",
    "      ,df_f.violation.value_counts(normalize=True),sep='\\n')"
   ]
  },
  {
   "cell_type": "code",
   "execution_count": 20,
   "metadata": {},
   "outputs": [
    {
     "name": "stdout",
     "output_type": "stream",
     "text": [
      "Total # of Male Violations :\n",
      "----------------------------\n",
      "Speeding               182538\n",
      "Moving violation        72317\n",
      "Equipment               47211\n",
      "Other                   20425\n",
      "Registration/plates     14181\n",
      "Seat belt               12774\n",
      "Name: violation, dtype: int64\n",
      "----------------------------\n",
      "Proportions of Male Violations:\n",
      "----------------------------\n",
      "Speeding               0.522364\n",
      "Moving violation       0.206948\n",
      "Equipment              0.135102\n",
      "Other                  0.058450\n",
      "Registration/plates    0.040581\n",
      "Seat belt              0.036555\n",
      "Name: violation, dtype: float64\n"
     ]
    }
   ],
   "source": [
    "print('Total # of Male Violations :'\n",
    "      ,'----------------------------'\n",
    "      ,df_m.violation.value_counts()\n",
    "      ,'----------------------------',sep='\\n')\n",
    "print('Proportions of Male Violations:'\n",
    "      ,'----------------------------'\n",
    "      ,df_m.violation.value_counts(normalize=True),sep='\\n')"
   ]
  },
  {
   "cell_type": "markdown",
   "metadata": {},
   "source": [
    "***"
   ]
  },
  {
   "cell_type": "markdown",
   "metadata": {},
   "source": [
    "## Comparing speeding outcomes by gender"
   ]
  },
  {
   "cell_type": "markdown",
   "metadata": {},
   "source": [
    "When a driver is pulled over for speeding, many people believe that gender has an impact on whether the driver will receive a ticket or a warning. Can you find evidence of this in the dataset?\n",
    "\n",
    "First, you'll create two ``DataFrames`` of drivers who were stopped for ``speeding``: one containing ***females*** and the other containing ***males***.\n",
    "\n",
    "Then, for each **gender**, you'll use the ``stop_outcome`` column to calculate what percentage of stops resulted in a ``\"Citation\"`` (meaning a ticket) versus a ``\"Warning\"``."
   ]
  },
  {
   "cell_type": "markdown",
   "metadata": {},
   "source": [
    "**INSTRUCTIONS**\n",
    "\n",
    "*   Create a ``DataFrame``, ``female_and_speeding``, that only includes female drivers who were stopped for speeding.\n",
    "*   Create a ``DataFrame``, ``male_and_speeding``, that only includes male drivers who were stopped for speeding.\n",
    "*   Count the **stop outcomes** for the female drivers and express them as proportions.\n",
    "*   Count the **stop outcomes** for the male drivers and express them as proportions."
   ]
  },
  {
   "cell_type": "code",
   "execution_count": 21,
   "metadata": {
    "scrolled": true
   },
   "outputs": [
    {
     "name": "stdout",
     "output_type": "stream",
     "text": [
      "<class 'pandas.core.frame.DataFrame'>\n",
      "DatetimeIndex: 86198 entries, 2005-02-24 01:20:00 to 2015-12-31 21:59:00\n",
      "Data columns (total 21 columns):\n",
      " #   Column              Non-Null Count  Dtype         \n",
      "---  ------              --------------  -----         \n",
      " 0   id                  86198 non-null  object        \n",
      " 1   location_raw        86198 non-null  object        \n",
      " 2   police_department   86198 non-null  object        \n",
      " 3   driver_gender       86198 non-null  object        \n",
      " 4   driver_age_raw      86198 non-null  float64       \n",
      " 5   driver_age          86028 non-null  float64       \n",
      " 6   driver_race_raw     86198 non-null  object        \n",
      " 7   driver_race         86198 non-null  object        \n",
      " 8   violation_raw       86198 non-null  object        \n",
      " 9   violation           86198 non-null  object        \n",
      " 10  search_conducted    86198 non-null  object        \n",
      " 11  search_type_raw     667 non-null    object        \n",
      " 12  search_type         667 non-null    object        \n",
      " 13  contraband_found    86198 non-null  bool          \n",
      " 14  stop_outcome        86198 non-null  object        \n",
      " 15  is_arrested         86198 non-null  bool          \n",
      " 16  stop_duration       86198 non-null  object        \n",
      " 17  out_of_state        86098 non-null  object        \n",
      " 18  drugs_related_stop  86198 non-null  bool          \n",
      " 19  district            86198 non-null  object        \n",
      " 20  date_time           86198 non-null  datetime64[ns]\n",
      "dtypes: bool(3), datetime64[ns](1), float64(2), object(15)\n",
      "memory usage: 12.7+ MB\n"
     ]
    }
   ],
   "source": [
    "df_f_s = ri[(ri['driver_gender']=='F') & (ri['violation']=='Speeding')]\n",
    "df_f_s.info()"
   ]
  },
  {
   "cell_type": "code",
   "execution_count": 22,
   "metadata": {
    "scrolled": true
   },
   "outputs": [
    {
     "name": "stdout",
     "output_type": "stream",
     "text": [
      "<class 'pandas.core.frame.DataFrame'>\n",
      "DatetimeIndex: 182538 entries, 2005-01-02 01:55:00 to 2015-12-31 23:44:00\n",
      "Data columns (total 21 columns):\n",
      " #   Column              Non-Null Count   Dtype         \n",
      "---  ------              --------------   -----         \n",
      " 0   id                  182538 non-null  object        \n",
      " 1   location_raw        182538 non-null  object        \n",
      " 2   police_department   182538 non-null  object        \n",
      " 3   driver_gender       182538 non-null  object        \n",
      " 4   driver_age_raw      182538 non-null  float64       \n",
      " 5   driver_age          182163 non-null  float64       \n",
      " 6   driver_race_raw     182538 non-null  object        \n",
      " 7   driver_race         182538 non-null  object        \n",
      " 8   violation_raw       182538 non-null  object        \n",
      " 9   violation           182538 non-null  object        \n",
      " 10  search_conducted    182538 non-null  object        \n",
      " 11  search_type_raw     4861 non-null    object        \n",
      " 12  search_type         4861 non-null    object        \n",
      " 13  contraband_found    182538 non-null  bool          \n",
      " 14  stop_outcome        182538 non-null  object        \n",
      " 15  is_arrested         182538 non-null  bool          \n",
      " 16  stop_duration       182538 non-null  object        \n",
      " 17  out_of_state        182325 non-null  object        \n",
      " 18  drugs_related_stop  182538 non-null  bool          \n",
      " 19  district            182538 non-null  object        \n",
      " 20  date_time           182538 non-null  datetime64[ns]\n",
      "dtypes: bool(3), datetime64[ns](1), float64(2), object(15)\n",
      "memory usage: 27.0+ MB\n"
     ]
    }
   ],
   "source": [
    "df_m_s = ri[(ri['driver_gender']=='M') & (ri['violation']=='Speeding')]\n",
    "df_m_s.info()"
   ]
  },
  {
   "cell_type": "code",
   "execution_count": 23,
   "metadata": {},
   "outputs": [
    {
     "data": {
      "text/html": [
       "<div>\n",
       "<style scoped>\n",
       "    .dataframe tbody tr th:only-of-type {\n",
       "        vertical-align: middle;\n",
       "    }\n",
       "\n",
       "    .dataframe tbody tr th {\n",
       "        vertical-align: top;\n",
       "    }\n",
       "\n",
       "    .dataframe thead th {\n",
       "        text-align: right;\n",
       "    }\n",
       "</style>\n",
       "<table border=\"1\" class=\"dataframe\">\n",
       "  <thead>\n",
       "    <tr style=\"text-align: right;\">\n",
       "      <th></th>\n",
       "      <th>stop_outcome</th>\n",
       "    </tr>\n",
       "    <tr>\n",
       "      <th>stop_datetime</th>\n",
       "      <th></th>\n",
       "    </tr>\n",
       "  </thead>\n",
       "  <tbody>\n",
       "    <tr>\n",
       "      <th>2005-01-02 01:55:00</th>\n",
       "      <td>Citation</td>\n",
       "    </tr>\n",
       "    <tr>\n",
       "      <th>2005-01-02 20:30:00</th>\n",
       "      <td>Citation</td>\n",
       "    </tr>\n",
       "    <tr>\n",
       "      <th>2005-01-18 08:15:00</th>\n",
       "      <td>Citation</td>\n",
       "    </tr>\n",
       "    <tr>\n",
       "      <th>2005-01-23 23:15:00</th>\n",
       "      <td>Citation</td>\n",
       "    </tr>\n",
       "    <tr>\n",
       "      <th>2005-01-24 20:32:00</th>\n",
       "      <td>Citation</td>\n",
       "    </tr>\n",
       "    <tr>\n",
       "      <th>...</th>\n",
       "      <td>...</td>\n",
       "    </tr>\n",
       "    <tr>\n",
       "      <th>2015-12-31 20:50:00</th>\n",
       "      <td>Citation</td>\n",
       "    </tr>\n",
       "    <tr>\n",
       "      <th>2015-12-31 21:42:00</th>\n",
       "      <td>Citation</td>\n",
       "    </tr>\n",
       "    <tr>\n",
       "      <th>2015-12-31 22:26:00</th>\n",
       "      <td>Citation</td>\n",
       "    </tr>\n",
       "    <tr>\n",
       "      <th>2015-12-31 22:46:00</th>\n",
       "      <td>Citation</td>\n",
       "    </tr>\n",
       "    <tr>\n",
       "      <th>2015-12-31 23:44:00</th>\n",
       "      <td>Citation</td>\n",
       "    </tr>\n",
       "  </tbody>\n",
       "</table>\n",
       "<p>182538 rows × 1 columns</p>\n",
       "</div>"
      ],
      "text/plain": [
       "                    stop_outcome\n",
       "stop_datetime                   \n",
       "2005-01-02 01:55:00     Citation\n",
       "2005-01-02 20:30:00     Citation\n",
       "2005-01-18 08:15:00     Citation\n",
       "2005-01-23 23:15:00     Citation\n",
       "2005-01-24 20:32:00     Citation\n",
       "...                          ...\n",
       "2015-12-31 20:50:00     Citation\n",
       "2015-12-31 21:42:00     Citation\n",
       "2015-12-31 22:26:00     Citation\n",
       "2015-12-31 22:46:00     Citation\n",
       "2015-12-31 23:44:00     Citation\n",
       "\n",
       "[182538 rows x 1 columns]"
      ]
     },
     "execution_count": 23,
     "metadata": {},
     "output_type": "execute_result"
    }
   ],
   "source": [
    "df_m_s[['stop_outcome']]"
   ]
  },
  {
   "cell_type": "code",
   "execution_count": 24,
   "metadata": {},
   "outputs": [
    {
     "data": {
      "text/plain": [
       "array(['Citation', 'Arrest Driver', 'Warning', 'No Action',\n",
       "       'Arrest Passenger', 'N/D'], dtype=object)"
      ]
     },
     "execution_count": 24,
     "metadata": {},
     "output_type": "execute_result"
    }
   ],
   "source": [
    "df_m_s['stop_outcome'].unique()"
   ]
  },
  {
   "cell_type": "code",
   "execution_count": 25,
   "metadata": {},
   "outputs": [
    {
     "data": {
      "text/plain": [
       "Citation            82168\n",
       "Warning              3362\n",
       "Arrest Driver         456\n",
       "Arrest Passenger       89\n",
       "N/D                    78\n",
       "No Action              45\n",
       "Name: stop_outcome, dtype: int64"
      ]
     },
     "execution_count": 25,
     "metadata": {},
     "output_type": "execute_result"
    }
   ],
   "source": [
    "df_f_s.stop_outcome.value_counts()"
   ]
  },
  {
   "cell_type": "code",
   "execution_count": 26,
   "metadata": {},
   "outputs": [
    {
     "name": "stdout",
     "output_type": "stream",
     "text": [
      "Proportions of Female Speeding Outcomes:\n",
      "----------------------------------------\n",
      "Citation            0.953247\n",
      "Warning             0.039003\n",
      "Arrest Driver       0.005290\n",
      "Arrest Passenger    0.001033\n",
      "N/D                 0.000905\n",
      "No Action           0.000522\n",
      "Name: stop_outcome, dtype: float64\n"
     ]
    }
   ],
   "source": [
    "print('Proportions of Female Speeding Outcomes:'\n",
    "      ,'----------------------------------------'\n",
    "      ,df_f_s.stop_outcome.value_counts(normalize=True),sep='\\n')"
   ]
  },
  {
   "cell_type": "code",
   "execution_count": 27,
   "metadata": {},
   "outputs": [
    {
     "data": {
      "text/plain": [
       "Citation            172432\n",
       "Warning               6587\n",
       "Arrest Driver         2878\n",
       "Arrest Passenger       231\n",
       "N/D                    216\n",
       "No Action              194\n",
       "Name: stop_outcome, dtype: int64"
      ]
     },
     "execution_count": 27,
     "metadata": {},
     "output_type": "execute_result"
    }
   ],
   "source": [
    "df_m_s.stop_outcome.value_counts()"
   ]
  },
  {
   "cell_type": "code",
   "execution_count": 28,
   "metadata": {},
   "outputs": [
    {
     "name": "stdout",
     "output_type": "stream",
     "text": [
      "Proportions of Male Speeding Outcomes:\n",
      "--------------------------------------\n",
      "Citation            0.944636\n",
      "Warning             0.036086\n",
      "Arrest Driver       0.015767\n",
      "Arrest Passenger    0.001265\n",
      "N/D                 0.001183\n",
      "No Action           0.001063\n",
      "Name: stop_outcome, dtype: float64\n"
     ]
    }
   ],
   "source": [
    "print('Proportions of Male Speeding Outcomes:'\n",
    "      ,'--------------------------------------'\n",
    "      ,df_m_s.stop_outcome.value_counts(normalize=True),sep='\\n')"
   ]
  },
  {
   "cell_type": "markdown",
   "metadata": {},
   "source": [
    "Observation : There is no evidence that gender has an impact on whether the driver will receive a ticket or a warning, the proportions are very close (but still need to supported by hypothesis testing)"
   ]
  },
  {
   "cell_type": "markdown",
   "metadata": {},
   "source": [
    "***"
   ]
  },
  {
   "cell_type": "markdown",
   "metadata": {},
   "source": [
    "## Calculating the search rate"
   ]
  },
  {
   "cell_type": "markdown",
   "metadata": {},
   "source": [
    "During a traffic stop, the police officer sometimes conducts a search of the vehicle. In this exercise, you'll calculate the percentage of all stops that result in a vehicle search, also known as the **search rate**."
   ]
  },
  {
   "cell_type": "markdown",
   "metadata": {},
   "source": [
    "**INSTRUCTIONS**\n",
    "\n",
    "*   Check the data type of ``search_conducted`` to confirm that it's a ``Boolean Series``.\n",
    "*   Calculate the search rate by counting the ``Series`` values and expressing them as proportions.\n",
    "*   Calculate the search rate by taking the mean of the ``Series``. (It should match the proportion of ``True`` values calculated above.)"
   ]
  },
  {
   "cell_type": "code",
   "execution_count": 29,
   "metadata": {},
   "outputs": [
    {
     "data": {
      "text/plain": [
       "array([False, True], dtype=object)"
      ]
     },
     "execution_count": 29,
     "metadata": {},
     "output_type": "execute_result"
    }
   ],
   "source": [
    "ri['search_conducted'].unique()"
   ]
  },
  {
   "cell_type": "code",
   "execution_count": 30,
   "metadata": {
    "scrolled": true
   },
   "outputs": [
    {
     "data": {
      "text/plain": [
       "dtype('O')"
      ]
     },
     "execution_count": 30,
     "metadata": {},
     "output_type": "execute_result"
    }
   ],
   "source": [
    "ri['search_conducted'].dtype"
   ]
  },
  {
   "cell_type": "code",
   "execution_count": 31,
   "metadata": {},
   "outputs": [],
   "source": [
    "ri['search_conducted']=ri['search_conducted'].astype('bool')"
   ]
  },
  {
   "cell_type": "code",
   "execution_count": 32,
   "metadata": {},
   "outputs": [
    {
     "data": {
      "text/plain": [
       "dtype('bool')"
      ]
     },
     "execution_count": 32,
     "metadata": {},
     "output_type": "execute_result"
    }
   ],
   "source": [
    "ri['search_conducted'].dtype"
   ]
  },
  {
   "cell_type": "code",
   "execution_count": 33,
   "metadata": {},
   "outputs": [
    {
     "data": {
      "text/plain": [
       "False    462822\n",
       "True      17762\n",
       "Name: search_conducted, dtype: int64"
      ]
     },
     "execution_count": 33,
     "metadata": {},
     "output_type": "execute_result"
    }
   ],
   "source": [
    "ri['search_conducted'].value_counts()"
   ]
  },
  {
   "cell_type": "code",
   "execution_count": 34,
   "metadata": {},
   "outputs": [
    {
     "data": {
      "text/plain": [
       "False    0.963041\n",
       "True     0.036959\n",
       "Name: search_conducted, dtype: float64"
      ]
     },
     "execution_count": 34,
     "metadata": {},
     "output_type": "execute_result"
    }
   ],
   "source": [
    "ri['search_conducted'].value_counts(normalize=True)"
   ]
  },
  {
   "cell_type": "code",
   "execution_count": 35,
   "metadata": {},
   "outputs": [
    {
     "data": {
      "text/plain": [
       "0.036959199640437465"
      ]
     },
     "execution_count": 35,
     "metadata": {},
     "output_type": "execute_result"
    }
   ],
   "source": [
    "ri['search_conducted'].mean()"
   ]
  },
  {
   "cell_type": "markdown",
   "metadata": {},
   "source": [
    "***"
   ]
  },
  {
   "cell_type": "markdown",
   "metadata": {},
   "source": [
    "## Comparing search rates by gender"
   ]
  },
  {
   "cell_type": "markdown",
   "metadata": {},
   "source": [
    "You'll compare the rates at which **female** and **male** drivers are searched during a traffic stop. Remember that the vehicle search rate across all stops is about **3.8%**.\n",
    "\n",
    "First, you'll filter the ``DataFrame`` by gender and calculate the search rate for each group separately. Then, you'll perform the same calculation for both genders at once using a ``.groupby()``."
   ]
  },
  {
   "cell_type": "markdown",
   "metadata": {},
   "source": [
    "**INSTRUCTIONS 1/3**\n",
    "\n",
    "*   Filter the ``DataFrame`` to only include **female** drivers, and then calculate the search rate by taking the mean of ``search_conducted``."
   ]
  },
  {
   "cell_type": "code",
   "execution_count": 36,
   "metadata": {},
   "outputs": [
    {
     "data": {
      "text/plain": [
       "0.018751239152648355"
      ]
     },
     "execution_count": 36,
     "metadata": {},
     "output_type": "execute_result"
    }
   ],
   "source": [
    "ri[(ri['driver_gender']=='F')]['search_conducted'].mean()"
   ]
  },
  {
   "cell_type": "markdown",
   "metadata": {},
   "source": [
    "**INSTRUCTIONS 2/3**\n",
    "\n",
    "*   Filter the ``DataFrame`` to only include **male** drivers, and then repeat the search rate calculation."
   ]
  },
  {
   "cell_type": "code",
   "execution_count": 37,
   "metadata": {},
   "outputs": [
    {
     "data": {
      "text/plain": [
       "0.04379217389811301"
      ]
     },
     "execution_count": 37,
     "metadata": {},
     "output_type": "execute_result"
    }
   ],
   "source": [
    "ri[(ri['driver_gender']=='M')]['search_conducted'].mean()"
   ]
  },
  {
   "cell_type": "markdown",
   "metadata": {},
   "source": [
    "**INSTRUCTIONS 3/3**\n",
    "\n",
    "*   Group by driver gender to calculate the search rate for both groups simultaneously. (It should match the previous results.)"
   ]
  },
  {
   "cell_type": "code",
   "execution_count": 38,
   "metadata": {},
   "outputs": [
    {
     "data": {
      "text/plain": [
       "driver_gender\n",
       "F    0.018751\n",
       "M    0.043792\n",
       "Name: search_conducted, dtype: float64"
      ]
     },
     "execution_count": 38,
     "metadata": {},
     "output_type": "execute_result"
    }
   ],
   "source": [
    "ri.groupby('driver_gender')['search_conducted'].mean()"
   ]
  },
  {
   "cell_type": "markdown",
   "metadata": {},
   "source": [
    "***"
   ]
  },
  {
   "cell_type": "markdown",
   "metadata": {},
   "source": [
    "## Adding a second factor to the analysis"
   ]
  },
  {
   "cell_type": "markdown",
   "metadata": {},
   "source": [
    "Even though the search rate for males is much higher than for females, it's possible that the difference is mostly due to a second factor.\n",
    "\n",
    "For example, you might hypothesize that the search rate varies by violation type, and the difference in search rate between males and females is because they tend to commit different violations.\n",
    "\n",
    "You can test this hypothesis by examining the search rate for each combination of gender and violation. If the hypothesis was true, you would find that males and females are searched at about the same rate for each violation. Find out below if that's the case!"
   ]
  },
  {
   "cell_type": "markdown",
   "metadata": {},
   "source": [
    "**INSTRUCTIONS 1/2**\n",
    "\n",
    "*   Use a ``.groupby()`` to calculate the search rate for each combination of gender and violation. Are males and females searched at about the same rate for each violation?"
   ]
  },
  {
   "cell_type": "code",
   "execution_count": 39,
   "metadata": {},
   "outputs": [
    {
     "data": {
      "text/plain": [
       "driver_gender  violation          \n",
       "F              Equipment              0.040245\n",
       "               Moving violation       0.038021\n",
       "               Other                  0.045898\n",
       "               Registration/plates    0.054700\n",
       "               Seat belt              0.017746\n",
       "               Speeding               0.007738\n",
       "M              Equipment              0.070916\n",
       "               Moving violation       0.059156\n",
       "               Other                  0.046120\n",
       "               Registration/plates    0.103589\n",
       "               Seat belt              0.031705\n",
       "               Speeding               0.026630\n",
       "Name: search_conducted, dtype: float64"
      ]
     },
     "execution_count": 39,
     "metadata": {},
     "output_type": "execute_result"
    }
   ],
   "source": [
    "ri.groupby(['driver_gender','violation'])['search_conducted'].agg('mean')"
   ]
  },
  {
   "cell_type": "markdown",
   "metadata": {},
   "source": [
    "**INSTRUCTIONS 2/2**\n",
    "\n",
    "*   Reverse the ordering to group by violation before gender. The results may be easier to compare when presented this way."
   ]
  },
  {
   "cell_type": "code",
   "execution_count": 40,
   "metadata": {},
   "outputs": [
    {
     "data": {
      "text/plain": [
       "violation            driver_gender\n",
       "Equipment            F                0.040245\n",
       "                     M                0.070916\n",
       "Moving violation     F                0.038021\n",
       "                     M                0.059156\n",
       "Other                F                0.045898\n",
       "                     M                0.046120\n",
       "Registration/plates  F                0.054700\n",
       "                     M                0.103589\n",
       "Seat belt            F                0.017746\n",
       "                     M                0.031705\n",
       "Speeding             F                0.007738\n",
       "                     M                0.026630\n",
       "Name: search_conducted, dtype: float64"
      ]
     },
     "execution_count": 40,
     "metadata": {},
     "output_type": "execute_result"
    }
   ],
   "source": [
    "ri.groupby(['violation','driver_gender'])['search_conducted'].agg('mean')"
   ]
  },
  {
   "cell_type": "markdown",
   "metadata": {},
   "source": [
    "***"
   ]
  },
  {
   "cell_type": "markdown",
   "metadata": {},
   "source": [
    "## Counting protective frisks"
   ]
  },
  {
   "cell_type": "markdown",
   "metadata": {},
   "source": [
    "During a vehicle search, the police officer may pat down the driver to check if they have a weapon. This is known as a ``\"protective frisk.\"``\n",
    "\n",
    "You'll first check to see how many times \"Protective Frisk\" was the only search type. Then, you'll use a string method to locate all instances in which the driver was frisked."
   ]
  },
  {
   "cell_type": "markdown",
   "metadata": {},
   "source": [
    "**INSTRUCTIONS**\n",
    "\n",
    "*   Count the ``search_type`` values to see how many times ``\"Protective Frisk\"`` was the only search type.\n",
    "*   Create a new column, frisk, that is ``True`` if ``search_type`` contains the string ``\"Protective Frisk\"`` and ``False`` otherwise.\n",
    "*   Check the data type of frisk to confirm that it's a ``Boolean Series``.\n",
    "*   Take the sum of frisk to count the total number of frisks."
   ]
  },
  {
   "cell_type": "code",
   "execution_count": 41,
   "metadata": {},
   "outputs": [],
   "source": [
    "# Syntax: Series.str.contains(pat, case=True, flags=0, na=nan, regex=True)\n",
    "\n",
    "\n",
    "ri['frisk']=ri['search_type'].str.contains('Protective Frisk', na=False)"
   ]
  },
  {
   "cell_type": "code",
   "execution_count": 42,
   "metadata": {
    "scrolled": true
   },
   "outputs": [
    {
     "data": {
      "text/plain": [
       "dtype('bool')"
      ]
     },
     "execution_count": 42,
     "metadata": {},
     "output_type": "execute_result"
    }
   ],
   "source": [
    "ri['frisk'].dtype"
   ]
  },
  {
   "cell_type": "code",
   "execution_count": 43,
   "metadata": {},
   "outputs": [
    {
     "data": {
      "text/plain": [
       "False    478986\n",
       "True       1598\n",
       "Name: frisk, dtype: int64"
      ]
     },
     "execution_count": 43,
     "metadata": {},
     "output_type": "execute_result"
    }
   ],
   "source": [
    "ri['frisk'].value_counts()"
   ]
  },
  {
   "cell_type": "code",
   "execution_count": 44,
   "metadata": {},
   "outputs": [
    {
     "data": {
      "text/plain": [
       "Protective Frisk                                            879\n",
       "Probable Cause,Protective Frisk                             221\n",
       "Incident to Arrest,Protective Frisk                         158\n",
       "Protective Frisk,Reasonable Suspicion                        83\n",
       "Incident to Arrest,Inventory,Protective Frisk                77\n",
       "Incident to Arrest,Probable Cause,Protective Frisk           74\n",
       "Inventory,Protective Frisk                                   52\n",
       "Probable Cause,Protective Frisk,Reasonable Suspicion         31\n",
       "Inventory,Probable Cause,Protective Frisk                    14\n",
       "Incident to Arrest,Protective Frisk,Reasonable Suspicion      8\n",
       "Inventory,Protective Frisk,Reasonable Suspicion               1\n",
       "Name: search_type, dtype: int64"
      ]
     },
     "execution_count": 44,
     "metadata": {},
     "output_type": "execute_result"
    }
   ],
   "source": [
    "ri[ri['frisk']==True]['search_type'].value_counts()"
   ]
  },
  {
   "cell_type": "code",
   "execution_count": 47,
   "metadata": {},
   "outputs": [
    {
     "data": {
      "text/plain": [
       "1598"
      ]
     },
     "execution_count": 47,
     "metadata": {},
     "output_type": "execute_result"
    }
   ],
   "source": [
    "ri['frisk'].sum()"
   ]
  },
  {
   "cell_type": "markdown",
   "metadata": {},
   "source": [
    "***"
   ]
  },
  {
   "cell_type": "markdown",
   "metadata": {},
   "source": [
    "## Comparing frisk rates by gender"
   ]
  },
  {
   "cell_type": "markdown",
   "metadata": {},
   "source": [
    "You'll compare the rates at which female and male drivers are frisked during a search. Are males frisked more often than females, perhaps because police officers consider them to be higher risk?\n",
    "\n",
    "Before doing any calculations, it's important to filter the ``DataFrame`` to only include the relevant subset of data, namely stops in which a search was conducted."
   ]
  },
  {
   "cell_type": "markdown",
   "metadata": {},
   "source": [
    "**INSTRUCTIONS**\n",
    "\n",
    "*   Create a ``DataFrame``, searched, that only contains rows in which ``search_conducted`` is ``True``.\n",
    "*   Take the mean of the frisk column to find out what percentage of searches included a frisk.\n",
    "*   Calculate the frisk rate for each gender using a ``.groupby()``."
   ]
  },
  {
   "cell_type": "code",
   "execution_count": 46,
   "metadata": {},
   "outputs": [],
   "source": [
    "ri_Search = ri[ri['search_conducted']==True]"
   ]
  },
  {
   "cell_type": "code",
   "execution_count": 48,
   "metadata": {},
   "outputs": [
    {
     "data": {
      "text/plain": [
       "0.08996734601959239"
      ]
     },
     "execution_count": 48,
     "metadata": {},
     "output_type": "execute_result"
    }
   ],
   "source": [
    "ri_Search['frisk'].mean()"
   ]
  },
  {
   "cell_type": "code",
   "execution_count": 49,
   "metadata": {},
   "outputs": [
    {
     "data": {
      "text/plain": [
       "driver_gender\n",
       "F    0.066694\n",
       "M    0.093707\n",
       "Name: frisk, dtype: float64"
      ]
     },
     "execution_count": 49,
     "metadata": {},
     "output_type": "execute_result"
    }
   ],
   "source": [
    "ri_Search.groupby('driver_gender')['frisk'].mean()"
   ]
  }
 ],
 "metadata": {
  "kernelspec": {
   "display_name": "Python 3",
   "language": "python",
   "name": "python3"
  },
  "language_info": {
   "codemirror_mode": {
    "name": "ipython",
    "version": 3
   },
   "file_extension": ".py",
   "mimetype": "text/x-python",
   "name": "python",
   "nbconvert_exporter": "python",
   "pygments_lexer": "ipython3",
   "version": "3.8.5"
  }
 },
 "nbformat": 4,
 "nbformat_minor": 4
}
